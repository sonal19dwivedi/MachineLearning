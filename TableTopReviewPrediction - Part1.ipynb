{
 "cells": [
  {
   "cell_type": "code",
   "execution_count": 131,
   "metadata": {},
   "outputs": [],
   "source": [
    "import pandas\n",
    "import matplotlib.pyplot as plt\n",
    "import seaborn as sns\n",
    "from sklearn.model_selection import train_test_split\n",
    "from sklearn.model_selection import cross_val_score, cross_val_predict\n",
    "from sklearn import metrics\n",
    "import numpy as np"
   ]
  },
  {
   "cell_type": "code",
   "execution_count": 132,
   "metadata": {},
   "outputs": [],
   "source": [
    "games = pandas.read_csv(\"games.csv\")"
   ]
  },
  {
   "cell_type": "code",
   "execution_count": 133,
   "metadata": {},
   "outputs": [
    {
     "name": "stdout",
     "output_type": "stream",
     "text": [
      "\n",
      "Names of the columns in the games file:\n",
      "  Index(['id', 'type', 'name', 'yearpublished', 'minplayers', 'maxplayers',\n",
      "       'playingtime', 'minplaytime', 'maxplaytime', 'minage', 'users_rated',\n",
      "       'average_rating', 'bayes_average_rating', 'total_owners',\n",
      "       'total_traders', 'total_wanters', 'total_wishers', 'total_comments',\n",
      "       'total_weights', 'average_weight'],\n",
      "      dtype='object')\n",
      "\n",
      "Shape of the dataset: \n",
      " (81312, 20)\n"
     ]
    }
   ],
   "source": [
    "print(\"\\nNames of the columns in the games file:\\n \", games.columns)\n",
    "print(\"\\nShape of the dataset: \\n\", games.shape)"
   ]
  },
  {
   "cell_type": "code",
   "execution_count": 134,
   "metadata": {},
   "outputs": [
    {
     "data": {
      "image/png": "[encoded data removed]",
      "text/plain": [
       "<Figure size 432x288 with 1 Axes>"
      ]
     },
     "metadata": {},
     "output_type": "display_data"
    }
   ],
   "source": [
    "plt.hist(games[\"average_rating\"])\n",
    "plt.show()"
   ]
  },
  {
   "cell_type": "markdown",
   "metadata": {},
   "source": [
    "As we can see here we have almost 24000 games with an average rating of zero. Along with that we have a skew to the right with an average pridiction of 6."
   ]
  },
  {
   "cell_type": "code",
   "execution_count": 135,
   "metadata": {},
   "outputs": [
    {
     "name": "stdout",
     "output_type": "stream",
     "text": [
      "\n",
      "Printing the first row of the game with a rating of zero:\n",
      " id                             318\n",
      "type                     boardgame\n",
      "name                    Looney Leo\n",
      "yearpublished                    0\n",
      "minplayers                       0\n",
      "maxplayers                       0\n",
      "playingtime                      0\n",
      "minplaytime                      0\n",
      "maxplaytime                      0\n",
      "minage                           0\n",
      "users_rated                      0\n",
      "average_rating                   0\n",
      "bayes_average_rating             0\n",
      "total_owners                     0\n",
      "total_traders                    0\n",
      "total_wanters                    0\n",
      "total_wishers                    1\n",
      "total_comments                   0\n",
      "total_weights                    0\n",
      "average_weight                   0\n",
      "Name: 13048, dtype: object\n",
      "\n",
      "Printing the first row of the game with a rating greater than zero:\n",
      " id                                  12333\n",
      "type                            boardgame\n",
      "name                    Twilight Struggle\n",
      "yearpublished                        2005\n",
      "minplayers                              2\n",
      "maxplayers                              2\n",
      "playingtime                           180\n",
      "minplaytime                           180\n",
      "maxplaytime                           180\n",
      "minage                                 13\n",
      "users_rated                         20113\n",
      "average_rating                    8.33774\n",
      "bayes_average_rating              8.22186\n",
      "total_owners                        26647\n",
      "total_traders                         372\n",
      "total_wanters                        1219\n",
      "total_wishers                        5865\n",
      "total_comments                       5347\n",
      "total_weights                        2562\n",
      "average_weight                     3.4785\n",
      "Name: 0, dtype: object\n"
     ]
    }
   ],
   "source": [
    "print(\"\\nPrinting the first row of the game with a rating of zero:\\n\", games[games[\"average_rating\"] == 0].iloc[0])\n",
    "print(\"\\nPrinting the first row of the game with a rating greater than zero:\\n\", games[games[\"average_rating\"] > 0].iloc[0])"
   ]
  },
  {
   "cell_type": "markdown",
   "metadata": {},
   "source": [
    "It seems like that the first game \"Looney Leo\", never got published. Whereas, the second game titled \"Twilight Struggle\" is really popular."
   ]
  },
  {
   "cell_type": "code",
   "execution_count": 136,
   "metadata": {},
   "outputs": [
    {
     "data": {
      "image/png": "[encoded data removed]",
      "text/plain": [
       "<Figure size 432x288 with 1 Axes>"
      ]
     },
     "metadata": {},
     "output_type": "display_data"
    }
   ],
   "source": [
    "#Removing all rows without any user review\n",
    "games = games[games[\"users_rated\"] > 0]\n",
    "\n",
    "#Removing rows with missing values\n",
    "games = games.dropna(axis=0)\n",
    "\n",
    "plt.hist(games[\"average_rating\"])\n",
    "plt.show()"
   ]
  },
  {
   "cell_type": "code",
   "execution_count": 137,
   "metadata": {
    "scrolled": false
   },
   "outputs": [
    {
     "data": {
      "image/png": "[encoded data removed]",
      "text/plain": [
       "<Figure size 864x648 with 2 Axes>"
      ]
     },
     "metadata": {},
     "output_type": "display_data"
    }
   ],
   "source": [
    "corrmat = games.corr()\n",
    "fig = plt.figure(figsize=(12,9))\n",
    "sns.heatmap(corrmat, vmax = .8, square=True)\n",
    "plt.show()"
   ]
  },
  {
   "cell_type": "markdown",
   "metadata": {},
   "source": [
    "According to the above heatmap average_rating is related to id, bayes_average_rating, average_weight. Since bayes_average_rating is based of on average_rating it should be removed. Along with that id, type and name should be removed because all of those fields are not really characteristic of the game but since they are highly correlated they are going to impact the results of machine learning algorithm."
   ]
  },
  {
   "cell_type": "code",
   "execution_count": 138,
   "metadata": {},
   "outputs": [],
   "source": [
    "#Get all the columns from the dataframe\n",
    "columns = games.columns.tolist()\n",
    "\n",
    "#Filter the columns to remove the data that we do not need\n",
    "columns = [c for c in columns if c not in [\"bayes_average_rating\", \"average_rating\", \"type\", \"name\", \"id\"]]\n",
    "\n",
    "#Storing target\n",
    "target = \"average_rating\""
   ]
  },
  {
   "cell_type": "code",
   "execution_count": 139,
   "metadata": {},
   "outputs": [],
   "source": [
    "df = pandas.DataFrame(games)\n",
    "target_CV = df['average_rating']\n",
    "input_data_CV = df[columns]\n",
    "X = input_data_CV\n",
    "y = target_CV"
   ]
  },
  {
   "cell_type": "markdown",
   "metadata": {},
   "source": [
    "#### Spliting training and testing data"
   ]
  },
  {
   "cell_type": "code",
   "execution_count": 140,
   "metadata": {},
   "outputs": [
    {
     "name": "stdout",
     "output_type": "stream",
     "text": [
      "\n",
      "Shape of training set:  (45515, 20) \n",
      "Shape of test set:  (11379, 20)\n"
     ]
    }
   ],
   "source": [
    "train = games.sample(frac=0.8, random_state=1)\n",
    "test = games.loc[~games.index.isin(train.index)]\n",
    "\n",
    "#Checking if the data is divided properly\n",
    "print(\"\\nShape of training set: \", train.shape, \"\\nShape of test set: \", test.shape)"
   ]
  },
  {
   "cell_type": "markdown",
   "metadata": {},
   "source": [
    "#### Linear Regression Model"
   ]
  },
  {
   "cell_type": "code",
   "execution_count": 141,
   "metadata": {},
   "outputs": [
    {
     "data": {
      "text/plain": [
       "LinearRegression(copy_X=True, fit_intercept=True, n_jobs=None, normalize=False)"
      ]
     },
     "execution_count": 141,
     "metadata": {},
     "output_type": "execute_result"
    }
   ],
   "source": [
    "#Liner Regression Model\n",
    "from sklearn.linear_model import LinearRegression\n",
    "from sklearn.metrics import mean_squared_error\n",
    "\n",
    "LR = LinearRegression()\n",
    "\n",
    "LR.fit(train[columns], train[target])"
   ]
  },
  {
   "cell_type": "code",
   "execution_count": 142,
   "metadata": {},
   "outputs": [
    {
     "data": {
      "text/plain": [
       "2.0788190326293243"
      ]
     },
     "execution_count": 142,
     "metadata": {},
     "output_type": "execute_result"
    }
   ],
   "source": [
    "#Predictions for testing set\n",
    "predictions = LR.predict(test[columns])\n",
    "\n",
    "#Compare error between test pridictions and actual values\n",
    "mean_squared_error(predictions,test[target])"
   ]
  },
  {
   "cell_type": "code",
   "execution_count": 143,
   "metadata": {},
   "outputs": [
    {
     "data": {
      "text/plain": [
       "2.858811159462091"
      ]
     },
     "execution_count": 143,
     "metadata": {},
     "output_type": "execute_result"
    }
   ],
   "source": [
    "#Performing 10 cross validation\n",
    "prediction_TF = cross_val_predict(LR, X, y, cv=10)\n",
    "mean_squared_error(prediction_TF,y)"
   ]
  },
  {
   "cell_type": "markdown",
   "metadata": {},
   "source": [
    "This mean squared error is not bad but not great as well. This data is farely complex so there is not a liner model which it would fit perfectly. With average_rating feature no other feature was strongly related hence it is not suprising to see that non linear data does not fit it perfectly. So now, the same should be tested with a non-linear model to see how much better it does over the linear model."
   ]
  },
  {
   "cell_type": "markdown",
   "metadata": {},
   "source": [
    "#### Random Forest Regression Model"
   ]
  },
  {
   "cell_type": "code",
   "execution_count": 144,
   "metadata": {},
   "outputs": [
    {
     "data": {
      "text/plain": [
       "RandomForestRegressor(bootstrap=True, criterion='mse', max_depth=None,\n",
       "                      max_features='auto', max_leaf_nodes=None,\n",
       "                      min_impurity_decrease=0.0, min_impurity_split=None,\n",
       "                      min_samples_leaf=10, min_samples_split=2,\n",
       "                      min_weight_fraction_leaf=0.0, n_estimators=100,\n",
       "                      n_jobs=None, oob_score=False, random_state=1, verbose=0,\n",
       "                      warm_start=False)"
      ]
     },
     "execution_count": 144,
     "metadata": {},
     "output_type": "execute_result"
    }
   ],
   "source": [
    "#Random Forest Model\n",
    "from sklearn.ensemble import RandomForestRegressor\n",
    "\n",
    "RFR = RandomForestRegressor(n_estimators = 100, min_samples_leaf=10, random_state=1)\n",
    "RFR.fit(train[columns], train[target])"
   ]
  },
  {
   "cell_type": "code",
   "execution_count": 145,
   "metadata": {},
   "outputs": [
    {
     "data": {
      "text/plain": [
       "1.4458560046071653"
      ]
     },
     "execution_count": 145,
     "metadata": {},
     "output_type": "execute_result"
    }
   ],
   "source": [
    "predictions = RFR.predict(test[columns])\n",
    "#Compare error between test pridictions and actual values\n",
    "mean_squared_error(predictions,test[target])"
   ]
  },
  {
   "cell_type": "code",
   "execution_count": 146,
   "metadata": {},
   "outputs": [
    {
     "data": {
      "text/plain": [
       "1.5975792430665043"
      ]
     },
     "execution_count": 146,
     "metadata": {},
     "output_type": "execute_result"
    }
   ],
   "source": [
    "#Performing 10 cross validation\n",
    "prediction_TF = cross_val_predict(RFR, X, y, cv=10)\n",
    "mean_squared_error(prediction_TF,y)"
   ]
  },
  {
   "cell_type": "markdown",
   "metadata": {},
   "source": [
    "Here with a non-linear model, the prediction is certainly better than the linear model."
   ]
  },
  {
   "cell_type": "markdown",
   "metadata": {},
   "source": [
    "#### Comparision between Linear and Non-Linear Model"
   ]
  },
  {
   "cell_type": "code",
   "execution_count": 147,
   "metadata": {},
   "outputs": [
    {
     "name": "stdout",
     "output_type": "stream",
     "text": [
      "[8.12061283]\n",
      "[7.91373581]\n"
     ]
    }
   ],
   "source": [
    "#Prections with both models\n",
    "rating_LR = LR.predict(test[columns].iloc[0].values.reshape(1,-1))\n",
    "rating_RFR = RFR.predict(test[columns].iloc[0].values.reshape(1,-1))\n",
    "\n",
    "print(rating_LR)\n",
    "print(rating_RFR)"
   ]
  },
  {
   "cell_type": "code",
   "execution_count": 148,
   "metadata": {},
   "outputs": [
    {
     "data": {
      "text/plain": [
       "8.07933"
      ]
     },
     "execution_count": 148,
     "metadata": {},
     "output_type": "execute_result"
    }
   ],
   "source": [
    "test[target].iloc[0]"
   ]
  },
  {
   "cell_type": "markdown",
   "metadata": {},
   "source": [
    "#### Decision Tree Regression Model"
   ]
  },
  {
   "cell_type": "code",
   "execution_count": 149,
   "metadata": {},
   "outputs": [
    {
     "data": {
      "text/plain": [
       "1.688394277901985"
      ]
     },
     "execution_count": 149,
     "metadata": {},
     "output_type": "execute_result"
    }
   ],
   "source": [
    "import numpy as np\n",
    "from sklearn.tree import DecisionTreeRegressor\n",
    "\n",
    "# Create a random dataset\n",
    "DTR = DecisionTreeRegressor(max_depth=5)\n",
    "\n",
    "DTR.fit(train[columns], train[target])\n",
    "\n",
    "# Predict\n",
    "predictions = DTR.predict(test[columns])\n",
    "\n",
    "#Compare error between test pridictions and actual values\n",
    "mean_squared_error(predictions,test[target])"
   ]
  },
  {
   "cell_type": "code",
   "execution_count": 150,
   "metadata": {},
   "outputs": [
    {
     "data": {
      "text/plain": [
       "1.790591612248838"
      ]
     },
     "execution_count": 150,
     "metadata": {},
     "output_type": "execute_result"
    }
   ],
   "source": [
    "#Performing 10 cross validation\n",
    "prediction_TF = cross_val_predict(DTR, X, y, cv=10)\n",
    "mean_squared_error(prediction_TF,y)"
   ]
  },
  {
   "cell_type": "markdown",
   "metadata": {},
   "source": [
    "#### K Nearest Neighbour Regression Model"
   ]
  },
  {
   "cell_type": "code",
   "execution_count": 174,
   "metadata": {},
   "outputs": [
    {
     "data": {
      "text/plain": [
       "1.9468866492442287"
      ]
     },
     "execution_count": 174,
     "metadata": {},
     "output_type": "execute_result"
    }
   ],
   "source": [
    "from sklearn.neighbors import KNeighborsRegressor\n",
    "KNN = KNeighborsRegressor(n_neighbors=3)\n",
    "KNN.fit(train[columns], train[target])\n",
    "# Predict\n",
    "predictions = KNN.predict(test[columns])\n",
    "\n",
    "#Compare error between test pridictions and actual values\n",
    "mean_squared_error(predictions,test[target])"
   ]
  },
  {
   "cell_type": "code",
   "execution_count": 176,
   "metadata": {},
   "outputs": [
    {
     "data": {
      "text/plain": [
       "2.2524988063866576"
      ]
     },
     "execution_count": 176,
     "metadata": {},
     "output_type": "execute_result"
    }
   ],
   "source": [
    "#Performing 10 cross validation\n",
    "prediction_TF = cross_val_predict(KNN, X, y, cv=10)\n",
    "mean_squared_error(prediction_TF,y)"
   ]
  },
  {
   "cell_type": "markdown",
   "metadata": {},
   "source": [
    "Trying with 5 Nearest Neighbours:"
   ]
  },
  {
   "cell_type": "code",
   "execution_count": 177,
   "metadata": {},
   "outputs": [
    {
     "data": {
      "text/plain": [
       "1.791084001547584"
      ]
     },
     "execution_count": 177,
     "metadata": {},
     "output_type": "execute_result"
    }
   ],
   "source": [
    "from sklearn.neighbors import KNeighborsRegressor\n",
    "KNN = KNeighborsRegressor(n_neighbors=5)\n",
    "KNN.fit(train[columns], train[target])\n",
    "# Predict\n",
    "predictions = KNN.predict(test[columns])\n",
    "\n",
    "#Compare error between test pridictions and actual values\n",
    "mean_squared_error(predictions,test[target])"
   ]
  },
  {
   "cell_type": "code",
   "execution_count": 178,
   "metadata": {},
   "outputs": [
    {
     "data": {
      "text/plain": [
       "2.061911276094824"
      ]
     },
     "execution_count": 178,
     "metadata": {},
     "output_type": "execute_result"
    }
   ],
   "source": [
    "#Performing 10 cross validation\n",
    "prediction_TF = cross_val_predict(KNN, X, y, cv=10)\n",
    "mean_squared_error(prediction_TF,y)"
   ]
  },
  {
   "cell_type": "markdown",
   "metadata": {},
   "source": [
    "#### Rule Based Regression Model"
   ]
  },
  {
   "cell_type": "code",
   "execution_count": 153,
   "metadata": {},
   "outputs": [
    {
     "data": {
      "text/plain": [
       "2.493049696047476"
      ]
     },
     "execution_count": 153,
     "metadata": {},
     "output_type": "execute_result"
    }
   ],
   "source": [
    "from sklearn.dummy import DummyRegressor\n",
    "DR = DummyRegressor(strategy=\"mean\")\n",
    "DR.fit(train[columns], train[target])\n",
    "# Predict\n",
    "predictions = DR.predict(test[columns])\n",
    "\n",
    "#Compare error between test pridictions and actual values\n",
    "mean_squared_error(predictions,test[target])"
   ]
  },
  {
   "cell_type": "code",
   "execution_count": 154,
   "metadata": {},
   "outputs": [
    {
     "data": {
      "text/plain": [
       "2.5900791281138766"
      ]
     },
     "execution_count": 154,
     "metadata": {},
     "output_type": "execute_result"
    }
   ],
   "source": [
    "#Performing 10 cross validation\n",
    "prediction_TF = cross_val_predict(DR, X, y, cv=10)\n",
    "mean_squared_error(prediction_TF,y)"
   ]
  },
  {
   "cell_type": "code",
   "execution_count": 155,
   "metadata": {},
   "outputs": [
    {
     "name": "stdout",
     "output_type": "stream",
     "text": [
      "Linear Regression:  [8.12061283]\n",
      "Random Forest Regressor:  [7.91373581]\n",
      "Decision Tree Regressor:  [7.62106197]\n",
      "K Nearest Neighbour:  [8.03524]\n",
      "Mean Rule Based Dummy Classifier:  [6.01610123]\n",
      "\n",
      "Actual Average Rating: \n"
     ]
    },
    {
     "data": {
      "text/plain": [
       "8.07933"
      ]
     },
     "execution_count": 155,
     "metadata": {},
     "output_type": "execute_result"
    }
   ],
   "source": [
    "#Prections with all models for a particular game located at the 1st position in the dataframe\n",
    "rating_LR = LR.predict(test[columns].iloc[0].values.reshape(1,-1))\n",
    "rating_RFR = RFR.predict(test[columns].iloc[0].values.reshape(1,-1))\n",
    "rating_DTR = DTR.predict(test[columns].iloc[0].values.reshape(1,-1))\n",
    "rating_KNN = KNN.predict(test[columns].iloc[0].values.reshape(1,-1))\n",
    "rating_DR = DR.predict(test[columns].iloc[0].values.reshape(1,-1))\n",
    "\n",
    "print(\"Linear Regression: \", rating_LR)\n",
    "print(\"Random Forest Regressor: \", rating_RFR)\n",
    "print(\"Decision Tree Regressor: \", rating_DTR)\n",
    "print(\"K Nearest Neighbour: \", rating_KNN)\n",
    "print(\"Mean Rule Based Dummy Classifier: \" ,rating_DR)\n",
    "\n",
    "#Actual average rating for this game\n",
    "print(\"\\nActual Average Rating: \")\n",
    "test[target].iloc[0]"
   ]
  },
  {
   "cell_type": "markdown",
   "metadata": {},
   "source": [
    "##### KNN > Linear Regression > Random Forest > Decision Tree > Rule Based"
   ]
  },
  {
   "cell_type": "code",
   "execution_count": 156,
   "metadata": {},
   "outputs": [
    {
     "data": {
      "text/plain": [
       "yearpublished      2011.0000\n",
       "minplayers            2.0000\n",
       "maxplayers            6.0000\n",
       "playingtime         200.0000\n",
       "minplaytime          60.0000\n",
       "maxplaytime         200.0000\n",
       "minage               14.0000\n",
       "users_rated       15709.0000\n",
       "total_owners      17611.0000\n",
       "total_traders       273.0000\n",
       "total_wanters      1108.0000\n",
       "total_wishers      5581.0000\n",
       "total_comments     3188.0000\n",
       "total_weights      1486.0000\n",
       "average_weight        3.6359\n",
       "Name: 9, dtype: float64"
      ]
     },
     "execution_count": 156,
     "metadata": {},
     "output_type": "execute_result"
    }
   ],
   "source": [
    "test[columns].iloc[0]"
   ]
  },
  {
   "cell_type": "code",
   "execution_count": 157,
   "metadata": {},
   "outputs": [
    {
     "name": "stdout",
     "output_type": "stream",
     "text": [
      "Linear Regression:  [5.64830228]\n",
      "Random Forest Regressor:  [5.25339867]\n",
      "Decision Tree Regressor:  [5.53443878]\n",
      "K Nearest Neighbour:  [3.]\n",
      "Mean Rule Based Dummy Classifier:  [6.01610123]\n",
      "\n",
      "Actual Average Rating: \n"
     ]
    },
    {
     "data": {
      "text/plain": [
       "4.0"
      ]
     },
     "execution_count": 157,
     "metadata": {},
     "output_type": "execute_result"
    }
   ],
   "source": [
    "#Prections with all models for a particular game located at the 5001st position in the dataframe\n",
    "rating_LR = LR.predict(test[columns].iloc[5001].values.reshape(1,-1))\n",
    "rating_RFR = RFR.predict(test[columns].iloc[5001].values.reshape(1,-1))\n",
    "rating_DTR = DTR.predict(test[columns].iloc[5001].values.reshape(1,-1))\n",
    "rating_KNN = KNN.predict(test[columns].iloc[5001].values.reshape(1,-1))\n",
    "rating_DR = DR.predict(test[columns].iloc[5001].values.reshape(1,-1))\n",
    "\n",
    "print(\"Linear Regression: \", rating_LR)\n",
    "print(\"Random Forest Regressor: \", rating_RFR)\n",
    "print(\"Decision Tree Regressor: \", rating_DTR)\n",
    "print(\"K Nearest Neighbour: \", rating_KNN)\n",
    "print(\"Mean Rule Based Dummy Classifier: \" ,rating_DR)\n",
    "\n",
    "#Actual average rating for this game\n",
    "print(\"\\nActual Average Rating: \")\n",
    "test[target].iloc[5001]"
   ]
  },
  {
   "cell_type": "markdown",
   "metadata": {},
   "source": [
    "##### KNN > Random Forest > Decison Tree > Linear Regression > Rule Based"
   ]
  },
  {
   "cell_type": "code",
   "execution_count": 158,
   "metadata": {},
   "outputs": [
    {
     "data": {
      "text/plain": [
       "yearpublished      0.0\n",
       "minplayers         2.0\n",
       "maxplayers        10.0\n",
       "playingtime       10.0\n",
       "minplaytime       10.0\n",
       "maxplaytime       10.0\n",
       "minage             0.0\n",
       "users_rated        3.0\n",
       "total_owners       2.0\n",
       "total_traders      0.0\n",
       "total_wanters      0.0\n",
       "total_wishers      0.0\n",
       "total_comments     2.0\n",
       "total_weights      1.0\n",
       "average_weight     2.0\n",
       "Name: 27606, dtype: float64"
      ]
     },
     "execution_count": 158,
     "metadata": {},
     "output_type": "execute_result"
    }
   ],
   "source": [
    "test[columns].iloc[5001]"
   ]
  },
  {
   "cell_type": "code",
   "execution_count": 159,
   "metadata": {},
   "outputs": [
    {
     "name": "stdout",
     "output_type": "stream",
     "text": [
      "Linear Regression:  [6.10392951]\n",
      "Random Forest Regressor:  [7.28359215]\n",
      "Decision Tree Regressor:  [6.86958652]\n",
      "K Nearest Neighbour:  [8.1]\n",
      "Mean Rule Based Dummy Classifier:  [6.01610123]\n",
      "\n",
      "Actual Average Rating: \n"
     ]
    },
    {
     "data": {
      "text/plain": [
       "8.2"
      ]
     },
     "execution_count": 159,
     "metadata": {},
     "output_type": "execute_result"
    }
   ],
   "source": [
    "#Prections with all models for a particular game located at the 11370st position in the dataframe\n",
    "rating_LR = LR.predict(test[columns].iloc[11370].values.reshape(1,-1))\n",
    "rating_RFR = RFR.predict(test[columns].iloc[11370].values.reshape(1,-1))\n",
    "rating_DTR = DTR.predict(test[columns].iloc[11370].values.reshape(1,-1))\n",
    "rating_KNN = KNN.predict(test[columns].iloc[11370].values.reshape(1,-1))\n",
    "rating_DR = DR.predict(test[columns].iloc[11370].values.reshape(1,-1))\n",
    "\n",
    "print(\"Linear Regression: \", rating_LR)\n",
    "print(\"Random Forest Regressor: \", rating_RFR)\n",
    "print(\"Decision Tree Regressor: \", rating_DTR)\n",
    "print(\"K Nearest Neighbour: \", rating_KNN)\n",
    "print(\"Mean Rule Based Dummy Classifier: \" ,rating_DR)\n",
    "\n",
    "#Actual average rating for this game\n",
    "print(\"\\nActual Average Rating: \")\n",
    "test[target].iloc[11370]"
   ]
  },
  {
   "cell_type": "markdown",
   "metadata": {},
   "source": [
    "##### KNN > Random Forest > Decision Tree > Linear Regression > Rule Based"
   ]
  },
  {
   "cell_type": "code",
   "execution_count": 160,
   "metadata": {},
   "outputs": [
    {
     "data": {
      "text/plain": [
       "yearpublished     2015.0\n",
       "minplayers           2.0\n",
       "maxplayers           6.0\n",
       "playingtime         60.0\n",
       "minplaytime         60.0\n",
       "maxplaytime         60.0\n",
       "minage              13.0\n",
       "users_rated          5.0\n",
       "total_owners        48.0\n",
       "total_traders        0.0\n",
       "total_wanters        1.0\n",
       "total_wishers        2.0\n",
       "total_comments       2.0\n",
       "total_weights        1.0\n",
       "average_weight       1.0\n",
       "Name: 81176, dtype: float64"
      ]
     },
     "execution_count": 160,
     "metadata": {},
     "output_type": "execute_result"
    }
   ],
   "source": [
    "test[columns].iloc[11370]"
   ]
  },
  {
   "cell_type": "code",
   "execution_count": 161,
   "metadata": {},
   "outputs": [
    {
     "name": "stdout",
     "output_type": "stream",
     "text": [
      "Linear Regression:  [8.40216505]\n",
      "Random Forest Regressor:  [7.45198331]\n",
      "Decision Tree Regressor:  [6.89172092]\n",
      "K Nearest Neighbour:  [7.537935]\n",
      "Mean Rule Based Dummy Classifier:  [6.01610123]\n",
      "\n",
      "Actual Average Rating: \n"
     ]
    },
    {
     "data": {
      "text/plain": [
       "7.82838"
      ]
     },
     "execution_count": 161,
     "metadata": {},
     "output_type": "execute_result"
    }
   ],
   "source": [
    "#Prections with all models for a particular game located at the 9370st position in the dataframe\n",
    "rating_LR = LR.predict(test[columns].iloc[10].values.reshape(1,-1))\n",
    "rating_RFR = RFR.predict(test[columns].iloc[10].values.reshape(1,-1))\n",
    "rating_DTR = DTR.predict(test[columns].iloc[10].values.reshape(1,-1))\n",
    "rating_KNN = KNN.predict(test[columns].iloc[10].values.reshape(1,-1))\n",
    "rating_DR = DR.predict(test[columns].iloc[10].values.reshape(1,-1))\n",
    "\n",
    "print(\"Linear Regression: \", rating_LR)\n",
    "print(\"Random Forest Regressor: \", rating_RFR)\n",
    "print(\"Decision Tree Regressor: \", rating_DTR)\n",
    "print(\"K Nearest Neighbour: \", rating_KNN)\n",
    "print(\"Mean Rule Based Dummy Classifier: \" ,rating_DR)\n",
    "\n",
    "#Actual average rating for this game\n",
    "print(\"\\nActual Average Rating: \")\n",
    "test[target].iloc[10]"
   ]
  },
  {
   "cell_type": "markdown",
   "metadata": {},
   "source": [
    "##### KNN > Random Forest > Linear Regression > Decision Tree > Rule Based"
   ]
  },
  {
   "cell_type": "code",
   "execution_count": 162,
   "metadata": {},
   "outputs": [
    {
     "data": {
      "text/plain": [
       "yearpublished     2006.0000\n",
       "minplayers           2.0000\n",
       "maxplayers           2.0000\n",
       "playingtime         60.0000\n",
       "minplaytime         60.0000\n",
       "maxplaytime         60.0000\n",
       "minage              12.0000\n",
       "users_rated       6080.0000\n",
       "total_owners      7770.0000\n",
       "total_traders      213.0000\n",
       "total_wanters      574.0000\n",
       "total_wishers     2057.0000\n",
       "total_comments    2204.0000\n",
       "total_weights      943.0000\n",
       "average_weight       2.6914\n",
       "Name: 48, dtype: float64"
      ]
     },
     "execution_count": 162,
     "metadata": {},
     "output_type": "execute_result"
    }
   ],
   "source": [
    "test[columns].iloc[10]"
   ]
  }
 ],
 "metadata": {
  "kernelspec": {
   "display_name": "Python 3",
   "language": "python",
   "name": "python3"
  },
  "language_info": {
   "codemirror_mode": {
    "name": "ipython",
    "version": 3
   },
   "file_extension": ".py",
   "mimetype": "text/x-python",
   "name": "python",
   "nbconvert_exporter": "python",
   "pygments_lexer": "ipython3",
   "version": "3.7.4"
  }
 },
 "nbformat": 4,
 "nbformat_minor": 2
}
